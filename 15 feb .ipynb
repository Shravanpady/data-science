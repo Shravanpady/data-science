{
 "cells": [
  {
   "cell_type": "markdown",
   "id": "13804b20-6abb-4471-b8a2-01a3b4c4e546",
   "metadata": {},
   "source": [
    "Q1. What is multiprocessing in python? Why is it useful?\n",
    "Multiprocessing in Python is a technique that allows the execution of multiple processes simultaneously in a computer with multiple CPUs or cores. This technique is useful because it can improve the performance of CPU-bound tasks by allowing them to run in parallel."
   ]
  },
  {
   "cell_type": "markdown",
   "id": "23f42ab5-95ec-406c-948a-3bf4fa6d9871",
   "metadata": {},
   "source": [
    "Q2. What are the differences between multiprocessing and multi\n",
    "The main difference between multiprocessing and multithreading is that multiprocessing allows the execution of multiple processes simultaneously, while multithreading allows the execution of multiple threads within the same process. In multiprocessing, each process has its own memory space and resources, while in multithreading, all threads share the same memory space and resources of the process"
   ]
  },
  {
   "cell_type": "code",
   "execution_count": 1,
   "id": "a81a2ad1-5c23-4a24-b81d-b871e658945c",
   "metadata": {},
   "outputs": [
    {
     "name": "stdout",
     "output_type": "stream",
     "text": [
      "Process: Process-1\n",
      "Value: 10\n"
     ]
    }
   ],
   "source": [
    "import multiprocessing\n",
    "\n",
    "def my_func(x):\n",
    "    print(\"Process:\", multiprocessing.current_process().name)\n",
    "    print(\"Value:\", x)\n",
    "\n",
    "if __name__ == \"__main__\":\n",
    "    p = multiprocessing.Process(target=my_func, args=(10,))\n",
    "    p.start()\n",
    "    p.join()\n"
   ]
  },
  {
   "cell_type": "code",
   "execution_count": null,
   "id": "609fcad1-b001-4c0d-9432-9482da0fb52d",
   "metadata": {},
   "outputs": [],
   "source": [
    "Q4. What is a multiprocessing pool in python? Why is it used?\n",
    "A multiprocessing pool in Python is a collection of worker processes that can execute tasks concurrently. It is used to distribute the workload among a group of worker processes to perform the same function or execute the same task simultaneously, which can reduce the overall processing time."
   ]
  },
  {
   "cell_type": "code",
   "execution_count": 2,
   "id": "af828e14-31c4-43f8-a6d1-4650e81363e9",
   "metadata": {},
   "outputs": [
    {
     "name": "stdout",
     "output_type": "stream",
     "text": [
      "Process:Process:Process:Process:    ForkPoolWorker-2ForkPoolWorker-4ForkPoolWorker-3ForkPoolWorker-5\n",
      "\n",
      "\n",
      "\n",
      "Value:Value:Value:Value:    0321\n",
      "\n",
      "\n",
      "\n"
     ]
    }
   ],
   "source": [
    "import multiprocessing\n",
    "\n",
    "def my_func(x):\n",
    "    print(\"Process:\", multiprocessing.current_process().name)\n",
    "    print(\"Value:\", x)\n",
    "\n",
    "if __name__ == \"__main__\":\n",
    "    pool = multiprocessing.Pool(processes=4)\n",
    "    results = []\n",
    "    for i in range(4):\n",
    "        result = pool.apply_async(my_func, args=(i,))\n",
    "        results.append(result)\n",
    "    pool.close()\n",
    "    pool.join()\n"
   ]
  },
  {
   "cell_type": "code",
   "execution_count": 3,
   "id": "84fcd2b3-ce69-4ddd-ba4c-e27d48a4694c",
   "metadata": {},
   "outputs": [
    {
     "name": "stdout",
     "output_type": "stream",
     "text": [
      "Process 0: 0\n",
      "Process 1: 1\n",
      "Process 2: 2\n",
      "Process 3: 3\n"
     ]
    }
   ],
   "source": [
    "import multiprocessing\n",
    "\n",
    "def print_number(num):\n",
    "    print(f\"Process {num}: {num}\")\n",
    "\n",
    "if __name__ == \"__main__\":\n",
    "    processes = []\n",
    "    for i in range(4):\n",
    "        p = multiprocessing.Process(target=print_number, args=(i,))\n",
    "        processes.append(p)\n",
    "        p.start()\n",
    "    for p in processes:\n",
    "        p.join()\n"
   ]
  },
  {
   "cell_type": "code",
   "execution_count": null,
   "id": "7f291446-f21a-4d89-a0fc-9efd75d6dbc4",
   "metadata": {},
   "outputs": [],
   "source": []
  }
 ],
 "metadata": {
  "kernelspec": {
   "display_name": "Python 3 (ipykernel)",
   "language": "python",
   "name": "python3"
  },
  "language_info": {
   "codemirror_mode": {
    "name": "ipython",
    "version": 3
   },
   "file_extension": ".py",
   "mimetype": "text/x-python",
   "name": "python",
   "nbconvert_exporter": "python",
   "pygments_lexer": "ipython3",
   "version": "3.10.8"
  }
 },
 "nbformat": 4,
 "nbformat_minor": 5
}
