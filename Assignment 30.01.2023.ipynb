{
 "cells": [
  {
   "cell_type": "code",
   "execution_count": 1,
   "id": "0aabd46e-54be-4e87-a969-960b0ab8a545",
   "metadata": {},
   "outputs": [
    {
     "name": "stdin",
     "output_type": "stream",
     "text": [
      "Percentage 76\n"
     ]
    },
    {
     "name": "stdout",
     "output_type": "stream",
     "text": [
      "C\n"
     ]
    }
   ],
   "source": [
    "#Assigment 2\n",
    "p=input('Percentage')\n",
    "p=int(p)\n",
    "if p>90:\n",
    "    print('A')\n",
    "elif p>=80 and p<=90:\n",
    "        print('B')\n",
    "elif p>=70 and p<=80:\n",
    "            print('C')\n",
    "else:\n",
    "                print('D')"
   ]
  },
  {
   "cell_type": "code",
   "execution_count": 11,
   "id": "c7346b1c-24ad-4cc5-a099-621f51421152",
   "metadata": {},
   "outputs": [
    {
     "name": "stdin",
     "output_type": "stream",
     "text": [
      "Cost of Bike 64000\n"
     ]
    },
    {
     "name": "stdout",
     "output_type": "stream",
     "text": [
      "10% Tax\n"
     ]
    }
   ],
   "source": [
    "\n",
    "c=int(c)\n",
    "if c>100000:\n",
    "    print('15% Tax')\n",
    "elif c>50000 and c<=100000:\n",
    "    print('10% Tax')\n",
    "else:\n",
    "    print('5% Tax')"
   ]
  },
  {
   "cell_type": "code",
   "execution_count": 2,
   "id": "fe125978-816c-4c91-a856-710dc31d0256",
   "metadata": {},
   "outputs": [
    {
     "name": "stdin",
     "output_type": "stream",
     "text": [
      "city name Delhi\n"
     ]
    },
    {
     "name": "stdout",
     "output_type": "stream",
     "text": [
      "taj mahal\n"
     ]
    }
   ],
   "source": [
    "c=input('city name')\n",
    "if c=='Delhi':\n",
    "    print('taj mahal')\n",
    "else:\n",
    "    print('Agra')"
   ]
  },
  {
   "cell_type": "code",
   "execution_count": null,
   "id": "62aacf7a-1bae-4943-a203-34bb1741f900",
   "metadata": {},
   "outputs": [],
   "source": []
  }
 ],
 "metadata": {
  "kernelspec": {
   "display_name": "Python 3 (ipykernel)",
   "language": "python",
   "name": "python3"
  },
  "language_info": {
   "codemirror_mode": {
    "name": "ipython",
    "version": 3
   },
   "file_extension": ".py",
   "mimetype": "text/x-python",
   "name": "python",
   "nbconvert_exporter": "python",
   "pygments_lexer": "ipython3",
   "version": "3.10.8"
  }
 },
 "nbformat": 4,
 "nbformat_minor": 5
}
