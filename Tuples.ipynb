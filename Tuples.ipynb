{
 "cells": [
  {
   "cell_type": "markdown",
   "id": "882501eb-0f34-44c3-b95a-c7d7855ea843",
   "metadata": {},
   "source": [
    "characteristics of tuples include:\n",
    "\n",
    "1.Tuples are indexed, which means that each element can be accessed by its position or index within the tuple.\n",
    "2.Tuples can be sliced, which means that a subset of the elements in the tuple can be selected by specifying a range of indices.\n",
    "3.Tuples can be nested, which means that a tuple can contain other tuples as elements.\n",
    "4.Tuples can be used as keys in dictionaries, whereas lists cannot.\n",
    "        tuple is immutable"
   ]
  },
  {
   "cell_type": "markdown",
   "id": "cea16d5b-e649-4be9-94c8-078c6207b9b2",
   "metadata": {},
   "source": [
    "2 tuple methods are count() & index()"
   ]
  },
  {
   "cell_type": "code",
   "execution_count": 1,
   "id": "e5c265dd-7cd3-4c73-aa82-c1ad323ff9f1",
   "metadata": {},
   "outputs": [
    {
     "name": "stdout",
     "output_type": "stream",
     "text": [
      "3\n"
     ]
    }
   ],
   "source": [
    "my_tuple = (1, 2, 3, 4, 4, 5, 4)\n",
    "print(my_tuple.count(4))"
   ]
  },
  {
   "cell_type": "code",
   "execution_count": 3,
   "id": "1d8e9127-98a6-47aa-a2c8-a2911ecd646c",
   "metadata": {},
   "outputs": [
    {
     "name": "stdout",
     "output_type": "stream",
     "text": [
      "5\n"
     ]
    }
   ],
   "source": [
    "my_tuple = (1, 2, 3, 4, 4, 5, 4)\n",
    "print(my_tuple.index(5))"
   ]
  },
  {
   "cell_type": "markdown",
   "id": "1f8537a5-d2ea-4ff6-a583-ee56c097f56a",
   "metadata": {},
   "source": [
    "Dictionary do not allows duplicate items"
   ]
  },
  {
   "cell_type": "code",
   "execution_count": 19,
   "id": "47fd07bd-b641-4692-b405-74ae45b22f53",
   "metadata": {},
   "outputs": [],
   "source": [
    "List_1 = [1, 1, 1, 2, 1, 3, 1, 4, 2, 1, 2, 2, 2, 3, 2, 4, 3, 1, 3, 2, 3, 3, 3, 4, 4, 1, 4, 2, 4, 3, 4, 4]"
   ]
  },
  {
   "cell_type": "code",
   "execution_count": 21,
   "id": "a113b834-bce7-48e3-ac9d-c1fe1fa2a149",
   "metadata": {},
   "outputs": [
    {
     "data": {
      "text/plain": [
       "{1, 2, 3, 4}"
      ]
     },
     "execution_count": 21,
     "metadata": {},
     "output_type": "execute_result"
    }
   ],
   "source": [
    "set(List_1)"
   ]
  },
  {
   "cell_type": "markdown",
   "id": "275814c0-db07-4900-aaf1-627d5fbff507",
   "metadata": {},
   "source": [
    "union & update are used to combine 2 sets where union creates new set without modifying the original sets while update modifies the original set"
   ]
  },
  {
   "cell_type": "code",
   "execution_count": 22,
   "id": "298e0baa-f5b9-4967-ac34-ddb29337a634",
   "metadata": {},
   "outputs": [
    {
     "name": "stdout",
     "output_type": "stream",
     "text": [
      "{1, 2, 3}\n",
      "{3, 4, 5}\n",
      "{1, 2, 3, 4, 5}\n"
     ]
    }
   ],
   "source": [
    "set1 = {1, 2, 3}\n",
    "set2 = {3, 4, 5}\n",
    "set3 = set1.union(set2)\n",
    "\n",
    "print(set1)\n",
    "print(set2) \n",
    "print(set3)\n"
   ]
  },
  {
   "cell_type": "code",
   "execution_count": 23,
   "id": "f575a4b3-8b36-4db9-bf06-82ebc7d49bf2",
   "metadata": {},
   "outputs": [
    {
     "name": "stdout",
     "output_type": "stream",
     "text": [
      "{1, 2, 3, 4, 5}\n",
      "{3, 4, 5}\n"
     ]
    }
   ],
   "source": [
    "set1 = {1, 2, 3}\n",
    "set2 = {3, 4, 5}\n",
    "set1.update(set2)\n",
    "\n",
    "print(set1) \n",
    "print(set2) "
   ]
  },
  {
   "cell_type": "markdown",
   "id": "422a96e4-f9a9-48fb-809b-fb26cd617a1a",
   "metadata": {},
   "source": [
    "Dictionary is data collection where a Value is saved against key & dictionary are unordered"
   ]
  },
  {
   "cell_type": "code",
   "execution_count": 25,
   "id": "8336b247-3277-4090-8964-d1aabcb14127",
   "metadata": {},
   "outputs": [
    {
     "name": "stdout",
     "output_type": "stream",
     "text": [
      "red\n"
     ]
    }
   ],
   "source": [
    "fruits = {\"apple\": \"red\", \"banana\": \"yellow\", \"orange\": \"orange\", \"kiwi\": \"green\"}\n",
    "print(fruits['apple'])"
   ]
  },
  {
   "cell_type": "markdown",
   "id": "09dcb453-a039-443f-a673-b5b4db7f12ce",
   "metadata": {},
   "source": [
    "yes we can create nested dictionary"
   ]
  },
  {
   "cell_type": "code",
   "execution_count": 29,
   "id": "0a7dacc9-cff4-4769-a5de-cf4010b8103e",
   "metadata": {},
   "outputs": [
    {
     "name": "stdout",
     "output_type": "stream",
     "text": [
      "John\n",
      "32\n"
     ]
    }
   ],
   "source": [
    "# Creating a nested dictionary\n",
    "my_dict = {\"person1\":{\"name\": \"John\",\"age\": 30,\"city\": \"New York\"},\"person2\":{\"name\": \"Rose\",\"age\": 32,\"city\": \"London\"}\n",
    "}\n",
    "print(my_dict[\"person1\"][\"name\"])\n",
    "print(my_dict[\"person2\"][\"age\"])"
   ]
  },
  {
   "cell_type": "code",
   "execution_count": 33,
   "id": "aa1dba41-3f98-42c4-be2f-815c42a96ccc",
   "metadata": {},
   "outputs": [
    {
     "data": {
      "text/plain": [
       "['Python', 'Machine Learning', 'Deep Learning']"
      ]
     },
     "execution_count": 33,
     "metadata": {},
     "output_type": "execute_result"
    }
   ],
   "source": [
    "dict1 = {'language' : 'Python', 'course': 'Data Science Masters'}\n",
    "dict1.setdefault('topics', ['Python', 'Machine Learning', 'Deep Learning'])"
   ]
  },
  {
   "cell_type": "code",
   "execution_count": 34,
   "id": "fa293d2e-0c3a-4970-b6f1-8e195c4e6277",
   "metadata": {},
   "outputs": [
    {
     "data": {
      "text/plain": [
       "{'language': 'Python',\n",
       " 'course': 'Data Science Masters',\n",
       " 'topics': ['Python', 'Machine Learning', 'Deep Learning']}"
      ]
     },
     "execution_count": 34,
     "metadata": {},
     "output_type": "execute_result"
    }
   ],
   "source": [
    "dict1"
   ]
  },
  {
   "cell_type": "code",
   "execution_count": 35,
   "id": "64213275-5444-4da3-9f9e-3ba459ac9d2e",
   "metadata": {},
   "outputs": [],
   "source": [
    "dict1 = {'Sport': 'Cricket' , 'Teams': ['India', 'Australia', 'England', 'South Africa', 'Sri Lanka', 'New Zealand']}"
   ]
  },
  {
   "cell_type": "code",
   "execution_count": 36,
   "id": "299b06e6-948c-4e4d-ada9-dfe5ae123fb7",
   "metadata": {},
   "outputs": [
    {
     "ename": "AttributeError",
     "evalue": "'dict' object has no attribute 'key'",
     "output_type": "error",
     "traceback": [
      "\u001b[0;31m---------------------------------------------------------------------------\u001b[0m",
      "\u001b[0;31mAttributeError\u001b[0m                            Traceback (most recent call last)",
      "Cell \u001b[0;32mIn[36], line 1\u001b[0m\n\u001b[0;32m----> 1\u001b[0m \u001b[43mdict1\u001b[49m\u001b[38;5;241;43m.\u001b[39;49m\u001b[43mkey\u001b[49m()\n",
      "\u001b[0;31mAttributeError\u001b[0m: 'dict' object has no attribute 'key'"
     ]
    }
   ],
   "source": [
    "dict1.keys()"
   ]
  },
  {
   "cell_type": "code",
   "execution_count": null,
   "id": "ae6b0355-8c25-4ee7-b20c-cc20bdb37d4b",
   "metadata": {},
   "outputs": [],
   "source": []
  }
 ],
 "metadata": {
  "kernelspec": {
   "display_name": "Python 3 (ipykernel)",
   "language": "python",
   "name": "python3"
  },
  "language_info": {
   "codemirror_mode": {
    "name": "ipython",
    "version": 3
   },
   "file_extension": ".py",
   "mimetype": "text/x-python",
   "name": "python",
   "nbconvert_exporter": "python",
   "pygments_lexer": "ipython3",
   "version": "3.10.8"
  }
 },
 "nbformat": 4,
 "nbformat_minor": 5
}
