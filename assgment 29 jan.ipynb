{
 "cells": [
  {
   "cell_type": "markdown",
   "id": "79f90813-30f8-4e01-9a11-3bc3c53c0088",
   "metadata": {},
   "source": [
    "1.Python Programming Language was developed by Guido van Rossum in the late 1980s and was first released on February 20, 1991.\n"
   ]
  },
  {
   "cell_type": "markdown",
   "id": "b151fc73-0b1a-44dc-a072-dc992bf43465",
   "metadata": {},
   "source": [
    "2.Python supports multiple programming paradigms, including object-oriented, imperative, and functional programming."
   ]
  },
  {
   "cell_type": "markdown",
   "id": "105a0fb4-0e65-4d63-8aac-eb3008a2e807",
   "metadata": {},
   "source": [
    "3.Yes, Python is case sensitive when dealing with identifiers."
   ]
  },
  {
   "cell_type": "markdown",
   "id": "29674bb9-b9cd-4f4b-bb3a-e353e327df04",
   "metadata": {},
   "source": [
    "4.The correct extension of the Python file is .py."
   ]
  },
  {
   "cell_type": "markdown",
   "id": "b6a3dbea-e163-498f-b99d-6213a0190117",
   "metadata": {},
   "source": [
    "5.Python code is interpreted, but it is compiled into bytecode before execution. The bytecode is executed by the Python interpreter."
   ]
  },
  {
   "cell_type": "markdown",
   "id": "9975fe27-e7a9-4399-97cf-d39d805556d8",
   "metadata": {},
   "source": [
    "6.The blocks of code used to define in Python language are functions, classes, modules, and packages."
   ]
  },
  {
   "cell_type": "markdown",
   "id": "98a184b0-7a3d-4f70-9dfe-06288aa504ab",
   "metadata": {},
   "source": [
    "7.The character used to give single-line comments in Python is the hash (#) symbol"
   ]
  },
  {
   "cell_type": "markdown",
   "id": "2afd8a3d-e4b6-4142-a688-ea6de864ec7d",
   "metadata": {},
   "source": [
    "8.The functions which can help us to find the version of Python that we are currently working on are sys.version and platform.python_version()"
   ]
  },
  {
   "cell_type": "markdown",
   "id": "0de02a46-bfd2-419a-80df-9e320f2ae590",
   "metadata": {},
   "source": [
    "9.Python supports the creation of anonymous functions at runtime, using a construct called lambda"
   ]
  },
  {
   "cell_type": "markdown",
   "id": "953681bb-a412-4ac0-81b1-7c64bb2fdd54",
   "metadata": {},
   "source": [
    "10.pip stands for \"Pip Installs Packages\". It is a package manager for Python that is used to install, manage, and uninstall Python packages."
   ]
  },
  {
   "cell_type": "markdown",
   "id": "fe488e01-6e0c-442b-8bff-1f83da52d078",
   "metadata": {},
   "source": [
    "11.Some built-in functions in Python are print(), len(), type(), str(), int(), float(), range(), list(), dict(), and set()"
   ]
  },
  {
   "cell_type": "markdown",
   "id": "df1955e1-3932-4ed6-95b9-838e6878f248",
   "metadata": {},
   "source": [
    "12.The maximum possible length of an identifier in Python is unlimited, but it is recommended to keep it under 79 characters for readability purposes."
   ]
  },
  {
   "cell_type": "markdown",
   "id": "201e0cb5-cf36-4bca-a525-4c30126ca553",
   "metadata": {},
   "source": [
    "13.Some benefits of using Python are its simplicity, readability, large standard library, cross-platform compatibility, and community support"
   ]
  },
  {
   "cell_type": "markdown",
   "id": "0d66abc2-8202-4447-88b7-78bb686a1deb",
   "metadata": {},
   "source": [
    "14.Memory management in Python is done automatically through a mechanism called garbage collection. The interpreter frees the memory of objects that are no longer referenced in the program"
   ]
  },
  {
   "cell_type": "code",
   "execution_count": null,
   "id": "e837a807-6e12-497e-b466-7e70d10abd50",
   "metadata": {},
   "outputs": [],
   "source": [
    "1"
   ]
  }
 ],
 "metadata": {
  "kernelspec": {
   "display_name": "Python 3 (ipykernel)",
   "language": "python",
   "name": "python3"
  },
  "language_info": {
   "codemirror_mode": {
    "name": "ipython",
    "version": 3
   },
   "file_extension": ".py",
   "mimetype": "text/x-python",
   "name": "python",
   "nbconvert_exporter": "python",
   "pygments_lexer": "ipython3",
   "version": "3.10.8"
  }
 },
 "nbformat": 4,
 "nbformat_minor": 5
}
