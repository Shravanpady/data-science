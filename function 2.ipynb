{
 "cells": [
  {
   "cell_type": "markdown",
   "id": "f3d3e527-0484-448a-9e72-62bb5c5b9079",
   "metadata": {},
   "source": [
    "## Test function for dictionary"
   ]
  },
  {
   "cell_type": "markdown",
   "id": "8c6fe3cc-329f-49ea-af16-4562b998f1d6",
   "metadata": {},
   "source": [
    "*args is used to pass a variable number of non-keyword arguments to a function. When you use *args in the function definition, it allows the function to accept any number of positional arguments. These arguments are passed to the function as a tuple.\n",
    "**kwargs, on the other hand, is used to pass a variable number of keyword arguments to a function. When you use **kwargs in the function definition, it allows the function to accept any number of keyword arguments. These arguments are passed to the function as a dictionary."
   ]
  },
  {
   "cell_type": "code",
   "execution_count": null,
   "id": "b8b0adf5-2c3f-4332-affe-b3a610e98f59",
   "metadata": {},
   "outputs": [],
   "source": [
    "def test(**kwargs):\n",
    "    return kwargs"
   ]
  },
  {
   "cell_type": "code",
   "execution_count": 3,
   "id": "905a14ea-a3bb-4369-853a-d56b6dbed057",
   "metadata": {
    "tags": []
   },
   "outputs": [
    {
     "data": {
      "text/plain": [
       "{'a': 1, 'b': 2}"
      ]
     },
     "execution_count": 3,
     "metadata": {},
     "output_type": "execute_result"
    }
   ],
   "source": [
    "test(a=1,b=2)"
   ]
  },
  {
   "cell_type": "markdown",
   "id": "e73edfa9-0d43-4a8c-94ba-26dbdcdd74ee",
   "metadata": {},
   "source": []
  },
  {
   "cell_type": "markdown",
   "id": "a317c529-87c1-4623-8ef2-355968106cc3",
   "metadata": {},
   "source": [
    "## Test function for Tuple"
   ]
  },
  {
   "cell_type": "code",
   "execution_count": null,
   "id": "20f10986-d542-4a0a-9eb8-23bda7b44a0f",
   "metadata": {},
   "outputs": [],
   "source": [
    "def test(*args):\n",
    "    return args"
   ]
  },
  {
   "cell_type": "code",
   "execution_count": 5,
   "id": "1604488c-d902-4137-aa7c-d7e17818c0c5",
   "metadata": {},
   "outputs": [
    {
     "data": {
      "text/plain": [
       "(1, 2, 3, 3, 'god')"
      ]
     },
     "execution_count": 5,
     "metadata": {},
     "output_type": "execute_result"
    }
   ],
   "source": [
    "test(1,2,3,3,'god')"
   ]
  },
  {
   "cell_type": "markdown",
   "id": "44741cdb-b329-4dc1-ab90-dfa95b59354d",
   "metadata": {},
   "source": [
    "## Generator Function"
   ]
  },
  {
   "cell_type": "code",
   "execution_count": 25,
   "id": "e70295f6-e71d-45fb-9c57-c341864400c4",
   "metadata": {},
   "outputs": [],
   "source": [
    "a = [1,2,3]\n",
    "def test(a):\n",
    "    return"
   ]
  },
  {
   "cell_type": "code",
   "execution_count": 26,
   "id": "3cc1cb5a-3171-4875-abac-632fc7951da4",
   "metadata": {},
   "outputs": [],
   "source": [
    "test(a)"
   ]
  },
  {
   "cell_type": "code",
   "execution_count": 22,
   "id": "209a4bb4-a203-4da5-9394-4b1f545292ef",
   "metadata": {},
   "outputs": [],
   "source": [
    "a=range(10)"
   ]
  },
  {
   "cell_type": "code",
   "execution_count": 23,
   "id": "dbb04049-8a8b-468f-b8d6-310c2cc96801",
   "metadata": {},
   "outputs": [
    {
     "data": {
      "text/plain": [
       "range(0, 10)"
      ]
     },
     "execution_count": 23,
     "metadata": {},
     "output_type": "execute_result"
    }
   ],
   "source": [
    "a"
   ]
  },
  {
   "cell_type": "code",
   "execution_count": 28,
   "id": "7525396b-9fcb-4754-a8cf-0b01c942a9c5",
   "metadata": {},
   "outputs": [
    {
     "name": "stdout",
     "output_type": "stream",
     "text": [
      "1\n",
      "2\n",
      "3\n"
     ]
    }
   ],
   "source": [
    "for i in a:\n",
    "    print(i)"
   ]
  },
  {
   "cell_type": "code",
   "execution_count": 27,
   "id": "193b16a2-a2f4-476f-a293-c7b5eca138a8",
   "metadata": {},
   "outputs": [],
   "source": [
    "test(a)"
   ]
  },
  {
   "cell_type": "code",
   "execution_count": 55,
   "id": "18e8c4dd-64c3-4a6c-a2a7-978137254f2c",
   "metadata": {},
   "outputs": [],
   "source": [
    "def test1(n):\n",
    "    b,c =1,2\n",
    "    for i in range(n):\n",
    "        yield b\n",
    "    b,c=b+c,b*c"
   ]
  },
  {
   "cell_type": "code",
   "execution_count": 56,
   "id": "daed8d56-f03c-49db-81b9-d680683a7c44",
   "metadata": {},
   "outputs": [
    {
     "name": "stdout",
     "output_type": "stream",
     "text": [
      "1\n",
      "1\n",
      "1\n",
      "1\n",
      "1\n",
      "1\n",
      "1\n",
      "1\n",
      "1\n",
      "1\n"
     ]
    }
   ],
   "source": [
    "for i in test1(10):\n",
    "    print(i)"
   ]
  },
  {
   "cell_type": "markdown",
   "id": "2f0264c7-61df-4145-97cb-f8583d423870",
   "metadata": {},
   "source": [
    "## Assigment Q3"
   ]
  },
  {
   "cell_type": "markdown",
   "id": "c85e1c99-2b80-43e5-b34a-7975e3f01e38",
   "metadata": {},
   "source": [
    "iterator is used to iterate a sequence for data collection\n",
    "To iterate through the elements of an iterator, you can use the next() method."
   ]
  },
  {
   "cell_type": "code",
   "execution_count": 9,
   "id": "2464ab27-bbe9-4d77-89fa-253ece9df77d",
   "metadata": {},
   "outputs": [
    {
     "name": "stdout",
     "output_type": "stream",
     "text": [
      "2\n",
      "4\n",
      "6\n",
      "8\n",
      "10\n"
     ]
    }
   ],
   "source": [
    "my_list = [2, 4, 6, 8, 10, 12, 14, 16, 18, 20]\n",
    "\n",
    "my_iter = iter(my_list)\n",
    "\n",
    "for i in range(5):\n",
    "    print(next(my_iter))"
   ]
  },
  {
   "cell_type": "code",
   "execution_count": 54,
   "id": "118804ca-6b85-4388-8416-f6009e933d36",
   "metadata": {},
   "outputs": [
    {
     "name": "stdout",
     "output_type": "stream",
     "text": [
      "2\n",
      "4\n",
      "6\n",
      "8\n",
      "10\n"
     ]
    }
   ],
   "source": [
    "a=[2,4,6,8,10,12,14,16,18,20]\n",
    "for i in a:\n",
    "    if i<=a[4]:\n",
    "        print(i)"
   ]
  },
  {
   "cell_type": "markdown",
   "id": "791f30d0-943f-49ca-8e07-805aa6f591be",
   "metadata": {},
   "source": [
    "Q4. Generator Function is used for when we want to optimizwe the storage used by the programme.\n",
    "    Yield function is used to Return the Value of that particular argument "
   ]
  },
  {
   "cell_type": "code",
   "execution_count": 12,
   "id": "b51fe8fa-a048-43c9-8a36-98bdc958e427",
   "metadata": {},
   "outputs": [],
   "source": [
    "def count_up_to(n):\n",
    "    i = 1\n",
    "    while i <= n:\n",
    "        yield i\n",
    "        i += 1"
   ]
  },
  {
   "cell_type": "code",
   "execution_count": 13,
   "id": "d960060d-98bd-45d5-a596-6bdb076e9d39",
   "metadata": {},
   "outputs": [
    {
     "name": "stdout",
     "output_type": "stream",
     "text": [
      "1\n",
      "2\n",
      "3\n",
      "4\n",
      "5\n"
     ]
    }
   ],
   "source": [
    "for num in count_up_to(5):\n",
    "    print(num)"
   ]
  },
  {
   "cell_type": "markdown",
   "id": "7f455b92-9a5f-4c35-83e6-14463e2e878e",
   "metadata": {},
   "source": [
    "##Q5. prime Numbers"
   ]
  },
  {
   "cell_type": "code",
   "execution_count": 1,
   "id": "05bc1754-2341-4e53-846e-bd74cee66079",
   "metadata": {},
   "outputs": [],
   "source": [
    "def prime_generator():\n",
    "    primes = [2] # initialize primes list with 2\n",
    "    yield 2\n",
    "    num = 3 # start checking odd numbers from 3\n",
    "    while num < 1000:\n",
    "        is_prime = True\n",
    "        for prime in primes:\n",
    "            if num % prime == 0: # if num is divisible by any prime, it's not prime\n",
    "                is_prime = False\n",
    "                break\n",
    "        if is_prime:\n",
    "            primes.append(num)\n",
    "            yield num\n",
    "        num += 2 # check only odd numbers"
   ]
  },
  {
   "cell_type": "code",
   "execution_count": 11,
   "id": "4312e2f5-12a3-4742-8d86-cd68d049593f",
   "metadata": {},
   "outputs": [
    {
     "name": "stdout",
     "output_type": "stream",
     "text": [
      "2\n",
      "3\n",
      "5\n",
      "7\n",
      "11\n",
      "13\n",
      "17\n",
      "19\n",
      "23\n",
      "29\n",
      "31\n",
      "37\n",
      "41\n",
      "43\n",
      "47\n",
      "53\n",
      "59\n",
      "61\n",
      "67\n",
      "71\n"
     ]
    }
   ],
   "source": [
    "primes = prime_generator()\n",
    "for i in range(20):\n",
    "    print(next(primes))"
   ]
  },
  {
   "cell_type": "markdown",
   "id": "ba2ce4c2-473d-4d85-bb51-56a783e886aa",
   "metadata": {},
   "source": [
    "The keyword used to create a function in Python is \"def\""
   ]
  },
  {
   "cell_type": "code",
   "execution_count": 3,
   "id": "ac91db2f-8339-4388-b8b0-21c0a2d53c17",
   "metadata": {},
   "outputs": [],
   "source": [
    "def odd_numbers():\n",
    "    odd_nums = []\n",
    "    for i in range(1, 26):\n",
    "        if i % 2 != 0:\n",
    "            odd_nums.append(i)\n",
    "    return odd_nums"
   ]
  },
  {
   "cell_type": "code",
   "execution_count": 5,
   "id": "aa884eb2-e748-4b8f-beb5-60f174a3cfee",
   "metadata": {},
   "outputs": [
    {
     "name": "stdout",
     "output_type": "stream",
     "text": [
      "[1, 3, 5, 7, 9, 11, 13, 15, 17, 19, 21, 23, 25]\n"
     ]
    }
   ],
   "source": [
    "print(odd_numbers())"
   ]
  },
  {
   "cell_type": "code",
   "execution_count": null,
   "id": "c352d459-5c96-42f3-b371-79c9a4d10fc2",
   "metadata": {},
   "outputs": [],
   "source": []
  }
 ],
 "metadata": {
  "kernelspec": {
   "display_name": "Python 3 (ipykernel)",
   "language": "python",
   "name": "python3"
  },
  "language_info": {
   "codemirror_mode": {
    "name": "ipython",
    "version": 3
   },
   "file_extension": ".py",
   "mimetype": "text/x-python",
   "name": "python",
   "nbconvert_exporter": "python",
   "pygments_lexer": "ipython3",
   "version": "3.10.8"
  }
 },
 "nbformat": 4,
 "nbformat_minor": 5
}
