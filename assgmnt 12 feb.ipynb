{
 "cells": [
  {
   "cell_type": "code",
   "execution_count": 1,
   "id": "02d2f7cf-e8d7-4c47-be12-eb2c3d958e11",
   "metadata": {},
   "outputs": [],
   "source": [
    "## Exception is function used to show custom statement in case of error & to run the code even after the error block without any issue"
   ]
  },
  {
   "cell_type": "code",
   "execution_count": 2,
   "id": "8568af48-30ee-4e12-b56b-a6eb3ee15989",
   "metadata": {},
   "outputs": [],
   "source": [
    "# syntex error are error bbecause of the mistake in the syntax of the programme which i sidentified by compiler while exception error because the mistake in the programe structure found at the run time"
   ]
  },
  {
   "cell_type": "markdown",
   "id": "ddd1e2ce-334a-4261-a9f3-4ec681674cbf",
   "metadata": {},
   "source": [
    "## Exception handling"
   ]
  },
  {
   "cell_type": "code",
   "execution_count": 4,
   "id": "a7fbfa0a-b00d-4cf4-816b-97adfead5318",
   "metadata": {},
   "outputs": [
    {
     "name": "stdin",
     "output_type": "stream",
     "text": [
      "Enter a number:  0\n"
     ]
    },
    {
     "ename": "ZeroDivisionError",
     "evalue": "division by zero",
     "output_type": "error",
     "traceback": [
      "\u001b[0;31m---------------------------------------------------------------------------\u001b[0m",
      "\u001b[0;31mZeroDivisionError\u001b[0m                         Traceback (most recent call last)",
      "Cell \u001b[0;32mIn[4], line 3\u001b[0m\n\u001b[1;32m      1\u001b[0m \u001b[38;5;28;01mtry\u001b[39;00m:\n\u001b[1;32m      2\u001b[0m     num \u001b[38;5;241m=\u001b[39m \u001b[38;5;28mint\u001b[39m(\u001b[38;5;28minput\u001b[39m(\u001b[38;5;124m\"\u001b[39m\u001b[38;5;124mEnter a number: \u001b[39m\u001b[38;5;124m\"\u001b[39m))\n\u001b[0;32m----> 3\u001b[0m     result \u001b[38;5;241m=\u001b[39m \u001b[38;5;241;43m100\u001b[39;49m\u001b[43m \u001b[49m\u001b[38;5;241;43m/\u001b[39;49m\u001b[43m \u001b[49m\u001b[43mnum\u001b[49m\n\u001b[1;32m      4\u001b[0m     \u001b[38;5;28mprint\u001b[39m(\u001b[38;5;124m\"\u001b[39m\u001b[38;5;124mResult:\u001b[39m\u001b[38;5;124m\"\u001b[39m, result)\n\u001b[1;32m      5\u001b[0m \u001b[38;5;28;01mexcept\u001b[39;00m \u001b[38;5;167;01mValueError\u001b[39;00m:\n",
      "\u001b[0;31mZeroDivisionError\u001b[0m: division by zero"
     ]
    }
   ],
   "source": [
    "try:\n",
    "    num = int(input(\"Enter a number: \"))\n",
    "    result = 100 / num\n",
    "    print(\"Result:\", result)\n",
    "except ValueError:\n",
    "    print(\"Please enter a valid integer.\")\n"
   ]
  },
  {
   "cell_type": "markdown",
   "id": "ef5cbddd-2495-4e4b-95a7-cc4e2ad31fe2",
   "metadata": {},
   "source": [
    "in the above code suppose if the input value is non numeric then it will print the message 'please enter a valid integer' but in case the input is 0 there is no exception handling for that and it will show zero divison error"
   ]
  },
  {
   "cell_type": "markdown",
   "id": "0ce23512-5ddc-4cac-9a87-064596f4f4ad",
   "metadata": {},
   "source": [
    "try and except is used to catch and handle exceptions in python"
   ]
  },
  {
   "cell_type": "code",
   "execution_count": 12,
   "id": "2c799483-3e71-43ba-80ae-b82fd53a98c9",
   "metadata": {},
   "outputs": [
    {
     "name": "stdin",
     "output_type": "stream",
     "text": [
      "Enter a number:  0\n"
     ]
    },
    {
     "name": "stdout",
     "output_type": "stream",
     "text": [
      "Cannot divide by zero.\n"
     ]
    }
   ],
   "source": [
    "try:\n",
    "    num = int(input(\"Enter a number: \"))\n",
    "    result = 100 / num\n",
    "    print(\"Result:\", result)\n",
    "except ValueError:\n",
    "    print(\"Please enter a valid integer.\")\n",
    "except ZeroDivisionError:\n",
    "    print(\"Cannot divide by zero.\")\n"
   ]
  },
  {
   "cell_type": "code",
   "execution_count": null,
   "id": "f6c7925a-eecf-4ae7-bc51-db522131c74e",
   "metadata": {},
   "outputs": [],
   "source": [
    "#Example with try,else & finally"
   ]
  },
  {
   "cell_type": "code",
   "execution_count": 13,
   "id": "ce138cb3-d7bb-47d0-9197-585f629f5d96",
   "metadata": {},
   "outputs": [
    {
     "name": "stdin",
     "output_type": "stream",
     "text": [
      "Enter a number:  0\n"
     ]
    },
    {
     "name": "stdout",
     "output_type": "stream",
     "text": [
      "Cannot divide by zero.\n",
      "Program execution complete.\n"
     ]
    }
   ],
   "source": [
    "try:\n",
    "    num = int(input(\"Enter a number: \"))\n",
    "    result = 100 / num\n",
    "except ValueError:\n",
    "    print(\"Please enter a valid integer.\")\n",
    "except ZeroDivisionError:\n",
    "    print(\"Cannot divide by zero.\")\n",
    "else:\n",
    "    print(\"Result:\", result)\n",
    "finally:\n",
    "    print(\"Program execution complete.\")\n"
   ]
  },
  {
   "cell_type": "code",
   "execution_count": 14,
   "id": "e6422939-5cd9-4a74-a3c3-94bbd62e4dbd",
   "metadata": {},
   "outputs": [
    {
     "name": "stdout",
     "output_type": "stream",
     "text": [
      "Cannot divide by zero\n"
     ]
    }
   ],
   "source": [
    "#exmaple with raise\n",
    "def divide_numbers(num1, num2):\n",
    "    if num2 == 0:\n",
    "        raise ValueError(\"Cannot divide by zero\")\n",
    "    else:\n",
    "        return num1 / num2\n",
    "\n",
    "try:\n",
    "    result = divide_numbers(100, 0)\n",
    "except ValueError as e:\n",
    "    print(e)\n"
   ]
  },
  {
   "cell_type": "markdown",
   "id": "3137ad33-fc74-4405-9ae1-72ae01df055d",
   "metadata": {},
   "source": [
    "in try and else the statement inside try will check run and if not found false will run the block inside else statement\n",
    "finally will run give the custom message ans well as the error\n",
    "raise The raise statement allows programmers to create and raise their own exceptions when a specific error condition occurs that is not covered by the built-in exceptions in Python."
   ]
  },
  {
   "cell_type": "markdown",
   "id": "3dd71506-ac3b-4874-b988-aae564b7ebdf",
   "metadata": {},
   "source": [
    "Custom exceptions in Python are user-defined exceptions that can be raised when a specific error condition occurs that is not covered by the built-in exceptions in Python"
   ]
  },
  {
   "cell_type": "code",
   "execution_count": 20,
   "id": "5197aca8-1a0e-4f91-a894-1d219d32aa22",
   "metadata": {},
   "outputs": [
    {
     "name": "stdout",
     "output_type": "stream",
     "text": [
      "Insufficient balance to withdraw\n"
     ]
    }
   ],
   "source": [
    "class InsufficientBalanceError(Exception):\n",
    "    pass\n",
    "\n",
    "class BankAccount:\n",
    "    def __init__(self, balance):\n",
    "        self.balance = balance\n",
    "    \n",
    "    def withdraw(self, amount):\n",
    "        if amount > self.balance:\n",
    "            raise InsufficientBalanceError(\"Insufficient balance to withdraw\")\n",
    "        self.balance -= amount\n",
    "        return self.balance\n",
    "\n",
    "try:\n",
    "    account = BankAccount(5000)\n",
    "    balance = account.withdraw(6000)\n",
    "except InsufficientBalanceError as e:\n",
    "    print(e)\n"
   ]
  },
  {
   "cell_type": "code",
   "execution_count": null,
   "id": "e59346ca-1174-4a7b-a4e1-a1b734d0bbbb",
   "metadata": {},
   "outputs": [],
   "source": [
    "raise"
   ]
  }
 ],
 "metadata": {
  "kernelspec": {
   "display_name": "Python 3 (ipykernel)",
   "language": "python",
   "name": "python3"
  },
  "language_info": {
   "codemirror_mode": {
    "name": "ipython",
    "version": 3
   },
   "file_extension": ".py",
   "mimetype": "text/x-python",
   "name": "python",
   "nbconvert_exporter": "python",
   "pygments_lexer": "ipython3",
   "version": "3.10.8"
  }
 },
 "nbformat": 4,
 "nbformat_minor": 5
}
