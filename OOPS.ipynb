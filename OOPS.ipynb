{
 "cells": [
  {
   "cell_type": "markdown",
   "id": "461bb200-a8b7-4bdf-b22e-58da7b13a66e",
   "metadata": {},
   "source": [
    "a class is a blueprint that defines the properties and behaviors of a type of object, and an object is an instance of a class, with its own specific values for the attributes defined in the class"
   ]
  },
  {
   "cell_type": "code",
   "execution_count": 20,
   "id": "57f371e8-ae09-4835-b0da-460b254e9191",
   "metadata": {},
   "outputs": [],
   "source": [
    "class car():\n",
    "    def __init__(self,brand,model,color):\n",
    "        self.brand=brand\n",
    "        self.model=model\n",
    "        self.color=color\n",
    "    def details(self):\n",
    "        return self.brand,self.model,self.color\n",
    "    \n",
    "        "
   ]
  },
  {
   "cell_type": "code",
   "execution_count": 21,
   "id": "371a7768-054b-4cf2-aad2-2f2319e145a9",
   "metadata": {},
   "outputs": [],
   "source": [
    "my_car=car(\"honda\",\"city\",\"white\")"
   ]
  },
  {
   "cell_type": "code",
   "execution_count": 22,
   "id": "ca29f783-422f-43f6-aa40-e9fb7a80c95d",
   "metadata": {},
   "outputs": [
    {
     "data": {
      "text/plain": [
       "('honda', 'city', 'white')"
      ]
     },
     "execution_count": 22,
     "metadata": {},
     "output_type": "execute_result"
    }
   ],
   "source": [
    "my_car.details()"
   ]
  },
  {
   "cell_type": "code",
   "execution_count": 26,
   "id": "df1f30d1-54a6-4c75-b8cb-cecdb3648df0",
   "metadata": {},
   "outputs": [
    {
     "data": {
      "text/plain": [
       "'honda'"
      ]
     },
     "execution_count": 26,
     "metadata": {},
     "output_type": "execute_result"
    }
   ],
   "source": [
    "my_car.brand"
   ]
  },
  {
   "cell_type": "code",
   "execution_count": 27,
   "id": "ad85d9ed-360d-475b-a375-90d66055330f",
   "metadata": {},
   "outputs": [],
   "source": [
    "##__init__ used to initialize the object"
   ]
  },
  {
   "cell_type": "code",
   "execution_count": 28,
   "id": "d4ac222c-8c00-4227-aa7a-e9052a9cb211",
   "metadata": {},
   "outputs": [
    {
     "name": "stdout",
     "output_type": "stream",
     "text": [
      "Hello, my name is Alice and I'm 30 years old.\n"
     ]
    }
   ],
   "source": [
    "class Person:\n",
    "    def __init__(self, name, age):\n",
    "        self.name = name\n",
    "        self.age = age\n",
    "        \n",
    "    def say_hello(self):\n",
    "        print(f\"Hello, my name is {self.name} and I'm {self.age} years old.\")\n",
    "\n",
    "# Create an object of the Person class\n",
    "person1 = Person(\"Alice\", 30)\n",
    "\n",
    "# Call the say_hello method on the object\n",
    "person1.say_hello()"
   ]
  },
  {
   "cell_type": "code",
   "execution_count": 29,
   "id": "4ae2a7c6-41ba-4df6-8cc1-1cb5e38cd98b",
   "metadata": {},
   "outputs": [],
   "source": [
    "##self used to refer to the object currently being used"
   ]
  },
  {
   "cell_type": "code",
   "execution_count": 30,
   "id": "560a1d10-8ff5-4f27-b7fe-0857744b0826",
   "metadata": {},
   "outputs": [],
   "source": [
    "## inheritence allows the new class to inherit the properties from its parent class & types are single,multiple,hierarchial &multi level"
   ]
  },
  {
   "cell_type": "code",
   "execution_count": null,
   "id": "e87a9842-a7d3-4072-b6c0-81244c8ec643",
   "metadata": {},
   "outputs": [],
   "source": [
    "class Car:\n",
    "    def __init__(self, make, model):\n",
    "        self.make = make\n",
    "        self.model = model\n",
    "\n",
    "class Sedan(Car):\n",
    "    def __init__(self, make, model, color):\n",
    "        super().__init__(make, model)\n",
    "        self.color = color"
   ]
  },
  {
   "cell_type": "code",
   "execution_count": 32,
   "id": "147bf2d2-c1c7-49e8-b905-a399bbc48b62",
   "metadata": {},
   "outputs": [],
   "source": [
    "class Person:\n",
    "    def __init__(self, name, age):\n",
    "        self.name = name\n",
    "        self.age = age\n",
    "\n",
    "class Scholarship:\n",
    "    def __init__(self, amount):\n",
    "        self.amount = amount\n",
    "\n",
    "class Student(Person, Scholarship):\n",
    "    def __init__(self, name, age, amount):\n",
    "        Person.__init__(self, name, age)\n",
    "        Scholarship.__init__(self, amount)"
   ]
  },
  {
   "cell_type": "code",
   "execution_count": 43,
   "id": "0fd4f8bb-ef2b-46dd-a266-80d99c160403",
   "metadata": {},
   "outputs": [
    {
     "data": {
      "text/plain": [
       "'sam'"
      ]
     },
     "execution_count": 43,
     "metadata": {},
     "output_type": "execute_result"
    }
   ],
   "source": [
    "\n",
    "details=Student('sam',22,100)\n",
    "details.name"
   ]
  },
  {
   "cell_type": "code",
   "execution_count": null,
   "id": "02e49b90-b585-4842-aea0-d1af5d0551dd",
   "metadata": {},
   "outputs": [],
   "source": [
    "class Vehicle:\n",
    "    def __init__(self, make, model):\n",
    "        self.make = make\n",
    "        self.model = model\n",
    "\n",
    "class Car(Vehicle):\n",
    "    def __init__(self, make, model, color):\n",
    "        super().__init__(make, model)\n",
    "        self.color = color\n",
    "\n",
    "class Truck(Vehicle):\n",
    "    def __init__(self, make, model, payload):\n",
    "        super().__init__(make, model)\n",
    "        self.payload = payload\n"
   ]
  },
  {
   "cell_type": "code",
   "execution_count": 44,
   "id": "5e97bfdf-f9ce-46bd-b560-1af6f95f4cdc",
   "metadata": {
    "tags": []
   },
   "outputs": [],
   "source": [
    "class Human:\n",
    "    def __init__(self, name, age):\n",
    "        self.name = name\n",
    "        self.age = age\n",
    "\n",
    "class Person(Human):\n",
    "    def __init__(self, name, age, occupation):\n",
    "        super().__init__(name, age)\n",
    "        self.occupation = occupation\n",
    "\n",
    "class Child(Person):\n",
    "    def __init__(self, name, age, occupation, grade):\n",
    "        super().__init__(name, age,)\n",
    "        self.grade= grade"
   ]
  },
  {
   "cell_type": "code",
   "execution_count": null,
   "id": "14555a19-d45b-47da-9633-4e893617662b",
   "metadata": {},
   "outputs": [],
   "source": []
  }
 ],
 "metadata": {
  "kernelspec": {
   "display_name": "Python 3 (ipykernel)",
   "language": "python",
   "name": "python3"
  },
  "language_info": {
   "codemirror_mode": {
    "name": "ipython",
    "version": 3
   },
   "file_extension": ".py",
   "mimetype": "text/x-python",
   "name": "python",
   "nbconvert_exporter": "python",
   "pygments_lexer": "ipython3",
   "version": "3.10.8"
  }
 },
 "nbformat": 4,
 "nbformat_minor": 5
}
