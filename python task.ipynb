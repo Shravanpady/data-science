{
 "cells": [
  {
   "cell_type": "code",
   "execution_count": 27,
   "id": "c226c6a8-0d57-45b2-8092-c604bdda7a4a",
   "metadata": {},
   "outputs": [],
   "source": [
    "lst= [1,2,3,4, [44,55,66, True], False, (34,56,78,89,34), {1,2,3,3,2,1}, {1:34, \"key2\": [55, 67, 78, 89], 4: (45,\n",
    "22, 61, 34)}, [56, 'data science'], 'Machine Learning']"
   ]
  },
  {
   "cell_type": "code",
   "execution_count": 33,
   "id": "a4f63f92-24a8-443f-914b-011726ed4f4f",
   "metadata": {},
   "outputs": [],
   "source": [
    "def product_of_numbers(lst):\n",
    "    flat_lst = flatten_list(lst)\n",
    "    numbers = [num for num in flat_lst if isinstance(num, (int, float))]\n",
    "    product = 1\n",
    "    for num in numbers:\n",
    "        product *= num\n",
    "    return product\n",
    "\n",
    "def flatten_list(lst):\n",
    "    flattened = []\n",
    "    for item in lst:\n",
    "        if isinstance(item, (list, tuple)):\n",
    "            flattened.extend(flatten_list(item))\n",
    "        elif isinstance(item, dict):\n",
    "            flattened.extend(flatten_list(item.keys()))\n",
    "            flattened.extend(flatten_list(item.values()))\n",
    "        else:\n",
    "            flattened.append(item)\n",
    "    return flattened"
   ]
  },
  {
   "cell_type": "code",
   "execution_count": 39,
   "id": "6dc705d6-b647-4acc-9c4a-e439b4cb4726",
   "metadata": {},
   "outputs": [
    {
     "data": {
      "text/plain": [
       "[1,\n",
       " 2,\n",
       " 3,\n",
       " 4,\n",
       " 44,\n",
       " 55,\n",
       " 66,\n",
       " True,\n",
       " False,\n",
       " 34,\n",
       " 56,\n",
       " 78,\n",
       " 89,\n",
       " 34,\n",
       " {1, 2, 3},\n",
       " 1,\n",
       " 'key2',\n",
       " 4,\n",
       " 34,\n",
       " 55,\n",
       " 67,\n",
       " 78,\n",
       " 89,\n",
       " 45,\n",
       " 22,\n",
       " 61,\n",
       " 34,\n",
       " 56,\n",
       " 'data science',\n",
       " 'Machine Learning']"
      ]
     },
     "execution_count": 39,
     "metadata": {},
     "output_type": "execute_result"
    }
   ],
   "source": [
    "flatten_list(lst)"
   ]
  },
  {
   "cell_type": "code",
   "execution_count": 41,
   "id": "655712c1-c7be-4226-a04b-b713692a830d",
   "metadata": {},
   "outputs": [
    {
     "data": {
      "text/plain": [
       "0"
      ]
     },
     "execution_count": 41,
     "metadata": {},
     "output_type": "execute_result"
    }
   ],
   "source": [
    "product_of_numbers(lst)"
   ]
  },
  {
   "cell_type": "code",
   "execution_count": null,
   "id": "b523db1d-aa6e-4d3a-b03b-b0d49943f6ce",
   "metadata": {},
   "outputs": [],
   "source": [
    "message = input('Enter the message: ')\n",
    "new_message = ''\n",
    "for i in message:\n",
    "    if i == 'a':\n",
    "        new_message += 'z'\n",
    "    elif i == 'b':\n",
    "        new_message += 'y'\n",
    "    elif i == 'c':\n",
    "        new_message += 'x'\n",
    "    elif i == '':\n",
    "        new_message += '$'\n",
    "    else:\n",
    "        new_message += i\n",
    "print(new_message.lowercase())\n"
   ]
  },
  {
   "cell_type": "code",
   "execution_count": null,
   "id": "071ef269-2554-488d-bfcb-040d7192a744",
   "metadata": {},
   "outputs": [],
   "source": []
  }
 ],
 "metadata": {
  "kernelspec": {
   "display_name": "Python 3 (ipykernel)",
   "language": "python",
   "name": "python3"
  },
  "language_info": {
   "codemirror_mode": {
    "name": "ipython",
    "version": 3
   },
   "file_extension": ".py",
   "mimetype": "text/x-python",
   "name": "python",
   "nbconvert_exporter": "python",
   "pygments_lexer": "ipython3",
   "version": "3.10.8"
  }
 },
 "nbformat": 4,
 "nbformat_minor": 5
}
